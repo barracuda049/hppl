{
  "nbformat": 4,
  "nbformat_minor": 0,
  "metadata": {
    "colab": {
      "provenance": []
    },
    "kernelspec": {
      "name": "python3",
      "display_name": "Python 3"
    },
    "language_info": {
      "name": "python"
    }
  },
  "cells": [
    {
      "cell_type": "code",
      "execution_count": 1,
      "metadata": {
        "colab": {
          "base_uri": "https://localhost:8080/"
        },
        "id": "5k-N5WxPqP2F",
        "outputId": "2664b91a-67e6-41e6-eff5-2fde2526ec84"
      },
      "outputs": [
        {
          "output_type": "stream",
          "name": "stdout",
          "text": [
            "Looking in indexes: https://pypi.org/simple, https://us-python.pkg.dev/colab-wheels/public/simple/\n",
            "Collecting mpi4py\n",
            "  Downloading mpi4py-3.1.4.tar.gz (2.5 MB)\n",
            "\u001b[K     |████████████████████████████████| 2.5 MB 5.1 MB/s \n",
            "\u001b[?25h  Installing build dependencies ... \u001b[?25l\u001b[?25hdone\n",
            "  Getting requirements to build wheel ... \u001b[?25l\u001b[?25hdone\n",
            "    Preparing wheel metadata ... \u001b[?25l\u001b[?25hdone\n",
            "Building wheels for collected packages: mpi4py\n",
            "  Building wheel for mpi4py (PEP 517) ... \u001b[?25l\u001b[?25hdone\n",
            "  Created wheel for mpi4py: filename=mpi4py-3.1.4-cp38-cp38-linux_x86_64.whl size=4438462 sha256=79f6a3f22748924260036145aad3f4389733f862e88399ee40bd2d19594763c4\n",
            "  Stored in directory: /root/.cache/pip/wheels/f3/35/48/0b9a7076995eea5ea64a7e4bc3f0f342f453080795276264e7\n",
            "Successfully built mpi4py\n",
            "Installing collected packages: mpi4py\n",
            "Successfully installed mpi4py-3.1.4\n"
          ]
        }
      ],
      "source": [
        "!pip install mpi4py"
      ]
    },
    {
      "cell_type": "code",
      "source": [
        "%%writefile task6.py\n",
        "from mpi4py import MPI\n",
        "import numpy as np\n",
        "import matplotlib.pyplot as plt\n",
        "import timeit\n",
        "from math import pi\n",
        "\n",
        "start = timeit.default_timer()\n",
        "\n",
        "comm = MPI.COMM_WORLD\n",
        "\n",
        "size = comm.Get_size()\n",
        "rank = comm.Get_rank()\n",
        "\n",
        "\n",
        "N_total = 1000\n",
        "my_n = int(N_total/size)\n",
        "\n",
        "freq = 440 \n",
        "duration = 1 #sec\n",
        "fs = 2**14 # typical \n",
        "\n",
        "#t = np.linspace(0, duration, fs)\n",
        "\n",
        "t=np.linspace(-20*2*pi, 20*2*pi, fs)\n",
        "my_t = t[int(2**14/size)*rank:int(2**14/size)*(rank+1)]\n",
        "\n",
        "y=np.sin(t)*np.exp(-t**2/2/20**2)\n",
        "y=y+np.sin(3*t)*np.exp(-(t-5*2*pi)**2/2/20**2)\n",
        "y=y+np.sin(5.5*t)*np.exp(-(t-10*2*pi)**2/2/5**2)\n",
        "y= y+ np.sin(4*t)*np.exp(-(t-7*2*pi)**2/2/10**2)\n",
        "\n",
        "\n",
        "w=np.fft.fftfreq(len(y), d=(t[1]-t[0])/2/pi)\n",
        "\n",
        "def get_specgram(cur_y, cur_range, nwindowsteps=1000):\n",
        "    window_width=2*2*pi\n",
        "    sp_list = []\n",
        "\n",
        "    for i in cur_range:\n",
        "        window_position=i*2*pi\n",
        "        window_function=np.exp(-(t-window_position)**2/2/window_width**2)\n",
        "        y_window=cur_y * window_function\n",
        "        sp=np.fft.fft(y_window)\n",
        "        sp_list.append(sp)\n",
        "    \n",
        "    #return abs(np.array(sp_list).T)**2\n",
        "    return sp_list\n",
        "\n",
        "\n",
        "\n",
        "total_range = np.linspace(-20,20,N_total)\n",
        "my_range = total_range[rank*my_n:(rank+1)*my_n]\n",
        "\n",
        "#print('total',total_range)\n",
        "\n",
        "\n",
        "#print(my_range.shape)\n",
        "#print('my_range',my_range)\n",
        "\n",
        "my_sp = get_specgram(y, my_range)\n",
        "\n",
        "#print(my_sp.shape)\n",
        "\n",
        "sp_global = comm.gather(my_sp, root = 0)\n",
        "\n",
        "if rank == 0:\n",
        "  sp_global = abs(np.array(sp_global))**2\n",
        "  print(sp_global.shape)\n",
        "  sp_global = np.vstack(sp_global)\n",
        "\n",
        "  print('reshape',sp_global.shape)\n",
        "  \n",
        "  plt.imshow(sp_global.T, aspect='auto', extent=[-20,20,0,2*max(w)])\n",
        "  plt.ylim(0,6)\n",
        "  plt.colorbar()\n",
        "  plt.xlabel('t, cycles')\n",
        "  plt.ylabel('Frequency, arb. units')\n",
        "  plt.savefig('test2.png')\n",
        "\n",
        "TIME = timeit.default_timer() - start\n",
        "\n",
        "TIME_gen = comm.reduce(TIME, op=MPI.SUM, root = 0)\n",
        "if rank == 0:\n",
        "    print('final',TIME_gen/ size)"
      ],
      "metadata": {
        "colab": {
          "base_uri": "https://localhost:8080/"
        },
        "id": "U6VGMNrqqSEI",
        "outputId": "b4408856-a97b-437f-f6d6-c1c5fbbcc267"
      },
      "execution_count": 21,
      "outputs": [
        {
          "output_type": "stream",
          "name": "stdout",
          "text": [
            "Overwriting task6.py\n"
          ]
        }
      ]
    },
    {
      "cell_type": "code",
      "source": [
        "!mpirun --allow-run-as-root -n 3 python task6.py"
      ],
      "metadata": {
        "id": "7SU7K2Tf-1XS",
        "colab": {
          "base_uri": "https://localhost:8080/"
        },
        "outputId": "af362ff8-6609-474c-83f4-be59f67171dc"
      },
      "execution_count": 24,
      "outputs": [
        {
          "output_type": "stream",
          "name": "stdout",
          "text": [
            "(3, 333, 16384)\n",
            "reshape (999, 16384)\n",
            "final 3.226141087333341\n"
          ]
        }
      ]
    },
    {
      "cell_type": "code",
      "source": [
        "import numpy as np\n",
        "import matplotlib.pyplot as plt\n",
        "time_1_proc = 3.6023983390000467\n",
        "\n",
        "proc_time = np.array([\n",
        "    3.044009881999955,\n",
        "    3.106013991666714,\n",
        "    3.633085166749993,\n",
        "    3.622408846799999,\n",
        "    3.8814519553333944,\n",
        "    3.739378887714273,\n",
        "    3.510938839374972,\n",
        "    5.551399426666724\n",
        "])\n",
        "\n",
        "plt.plot(1+np.array(range(1,proc_time.shape[0]+1)), time_1_proc/proc_time)\n",
        "plt.title('Speedup')\n",
        "plt.xlabel('Number of processes')\n",
        "plt.ylabel('Speedup')"
      ],
      "metadata": {
        "id": "7f4zO_ct-7pq",
        "colab": {
          "base_uri": "https://localhost:8080/",
          "height": 310
        },
        "outputId": "772147fe-e6d5-427d-bba4-e32a7762fad4"
      },
      "execution_count": 20,
      "outputs": [
        {
          "output_type": "execute_result",
          "data": {
            "text/plain": [
              "Text(0, 0.5, 'Speedup')"
            ]
          },
          "metadata": {},
          "execution_count": 20
        },
        {
          "output_type": "display_data",
          "data": {
            "text/plain": [
              "<Figure size 432x288 with 1 Axes>"
            ],
            "image/png": "[encoded data removed]"
          },
          "metadata": {
            "needs_background": "light"
          }
        }
      ]
    },
    {
      "cell_type": "code",
      "source": [],
      "metadata": {
        "id": "KeH71viAuvJK"
      },
      "execution_count": null,
      "outputs": []
    }
  ]
}