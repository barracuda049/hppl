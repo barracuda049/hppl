{
  "nbformat": 4,
  "nbformat_minor": 0,
  "metadata": {
    "colab": {
      "provenance": []
    },
    "kernelspec": {
      "name": "python3",
      "display_name": "Python 3"
    },
    "language_info": {
      "name": "python"
    }
  },
  "cells": [
    {
      "cell_type": "code",
      "execution_count": 2,
      "metadata": {
        "colab": {
          "base_uri": "https://localhost:8080/"
        },
        "id": "snQ_9W0RFaCr",
        "outputId": "eb57e65d-822d-47f5-8889-e0851f3076f4"
      },
      "outputs": [
        {
          "output_type": "stream",
          "name": "stdout",
          "text": [
            "Looking in indexes: https://pypi.org/simple, https://us-python.pkg.dev/colab-wheels/public/simple/\n",
            "Collecting mpi4py\n",
            "  Downloading mpi4py-3.1.4.tar.gz (2.5 MB)\n",
            "\u001b[K     |████████████████████████████████| 2.5 MB 33.5 MB/s \n",
            "\u001b[?25h  Installing build dependencies ... \u001b[?25l\u001b[?25hdone\n",
            "  Getting requirements to build wheel ... \u001b[?25l\u001b[?25hdone\n",
            "    Preparing wheel metadata ... \u001b[?25l\u001b[?25hdone\n",
            "Building wheels for collected packages: mpi4py\n",
            "  Building wheel for mpi4py (PEP 517) ... \u001b[?25l\u001b[?25hdone\n",
            "  Created wheel for mpi4py: filename=mpi4py-3.1.4-cp38-cp38-linux_x86_64.whl size=4438508 sha256=c400bb5699e8286a3e803402251f2429b207bd50941365360ac7e488a6015425\n",
            "  Stored in directory: /root/.cache/pip/wheels/f3/35/48/0b9a7076995eea5ea64a7e4bc3f0f342f453080795276264e7\n",
            "Successfully built mpi4py\n",
            "Installing collected packages: mpi4py\n",
            "Successfully installed mpi4py-3.1.4\n"
          ]
        }
      ],
      "source": [
        "!pip install mpi4py"
      ]
    },
    {
      "cell_type": "code",
      "source": [
        "%%writefile task5.py\n",
        "\n",
        "from mpi4py import MPI\n",
        "import numpy as np\n",
        "import matplotlib.pyplot as plt\n",
        "import timeit\n",
        "\n",
        "start = timeit.default_timer()\n",
        "\n",
        "comm = MPI.COMM_WORLD\n",
        "size = comm.Get_size()\n",
        "rank = comm.Get_rank()\n",
        "\n",
        "N_total = 1000\n",
        "my_n = int(N_total/size)\n",
        "\n",
        "def ReturnLastNValues(r = 2.0, x0 = 0.5, number_of_steps = 100, number_of_steps_return = 50):\n",
        "    x = np.empty(0, dtype=np.float32)\n",
        "    x = np.append(x, x0)\n",
        "    for n in range(1, number_of_steps):\n",
        "        x_new = r * x[n-1] * (1 - x[n - 1])\n",
        "        x = np.append(x, x_new)\n",
        "\n",
        "    return x[-1:-number_of_steps_return-1:-1]\n",
        "\n",
        "r_total = np.linspace(0,4, N_total, endpoint=False)\n",
        "#print('r_total', r_total.shape)\n",
        "r_cur = r_total[rank*my_n:(rank+1)*my_n]\n",
        "#print('r_cur',r_cur.shape)\n",
        "x = []\n",
        "\n",
        "\n",
        "for cur_r in r_cur:\n",
        "\n",
        "    x.append(ReturnLastNValues(r=cur_r))\n",
        "root = 0\n",
        "x_global = comm.gather(x, root = root)\n",
        "\n",
        "#TIME = timeit.default_timer() - start\n",
        "\n",
        "#TIME_gen = comm.reduce(TIME, op=MPI.SUM, root = 0)\n",
        "\n",
        "#print(TIME)\n",
        "if rank == root:\n",
        "    #print('final',TIME_gen/ size)\n",
        "    x_global = np.array(x_global)\n",
        "    print('x_global',x_global.shape)\n",
        "    x_global = x_global.reshape((size*my_n, 50))\n",
        "    print('x_global',x_global.shape)\n",
        "    for i in range(size*my_n):\n",
        "        plt.plot(np.ones(50)*r_total[i], x_global[i], 'k.', ms = 1)\n",
        "    plt.savefig('test.png')\n",
        "\n",
        "TIME = timeit.default_timer() - start\n",
        "\n",
        "TIME_gen = comm.reduce(TIME, op=MPI.SUM, root = 0)\n",
        "if rank == 0:\n",
        "    print('final',TIME_gen/ size)"
      ],
      "metadata": {
        "colab": {
          "base_uri": "https://localhost:8080/"
        },
        "id": "4a2TLUM1FcpB",
        "outputId": "5bae8453-3dbf-4b39-894e-aee92a3991dc"
      },
      "execution_count": 40,
      "outputs": [
        {
          "output_type": "stream",
          "name": "stdout",
          "text": [
            "Overwriting task5.py\n"
          ]
        }
      ]
    },
    {
      "cell_type": "code",
      "source": [
        "!mpirun --allow-run-as-root -n 2 python task5.py"
      ],
      "metadata": {
        "colab": {
          "base_uri": "https://localhost:8080/"
        },
        "id": "xoez_rEaF7Iq",
        "outputId": "96205f42-8735-4ca3-a8d4-100ec7eafe29"
      },
      "execution_count": 44,
      "outputs": [
        {
          "output_type": "stream",
          "name": "stdout",
          "text": [
            "x_global (2, 500, 50)\n",
            "x_global (1000, 50)\n",
            "0.39116784500038193\n",
            "1.6608182739996664\n",
            "final 1.0259930595000242\n"
          ]
        }
      ]
    },
    {
      "cell_type": "code",
      "source": [
        "import numpy as np\n",
        "import matplotlib.pyplot as plt\n",
        "time_1_proc = 1.28378665799994\n",
        "\n",
        "proc_time = np.array([\n",
        "    0.9916731020000498,\n",
        "    1.2848880300000094,\n",
        "    1.1776019959999644,\n",
        "    1.0784757963999936,\n",
        "    1.12502224716665,\n",
        "    1.3195018034285957,\n",
        "    1.0727387073750236,\n",
        "    1.2999079088889023\n",
        "])\n",
        "\n",
        "plt.plot(1+np.array(range(1,proc_time.shape[0]+1)), time_1_proc/proc_time)\n",
        "plt.title('Speedup')\n",
        "plt.xlabel('Number of processes')\n",
        "plt.ylabel('Speedup')\n",
        "# plt.savefig('speedup.png')"
      ],
      "metadata": {
        "colab": {
          "base_uri": "https://localhost:8080/",
          "height": 310
        },
        "id": "yOoAEqaKewr3",
        "outputId": "3bab88b1-714f-46ef-f95b-b449e7905e56"
      },
      "execution_count": 39,
      "outputs": [
        {
          "output_type": "execute_result",
          "data": {
            "text/plain": [
              "Text(0, 0.5, 'Speedup')"
            ]
          },
          "metadata": {},
          "execution_count": 39
        },
        {
          "output_type": "display_data",
          "data": {
            "text/plain": [
              "<Figure size 432x288 with 1 Axes>"
            ],
            "image/png": "[encoded data removed]"
          },
          "metadata": {
            "needs_background": "light"
          }
        }
      ]
    },
    {
      "cell_type": "code",
      "source": [],
      "metadata": {
        "id": "CJW-93aFCZEX"
      },
      "execution_count": null,
      "outputs": []
    }
  ]
}