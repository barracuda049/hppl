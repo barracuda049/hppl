{
  "nbformat": 4,
  "nbformat_minor": 0,
  "metadata": {
    "colab": {
      "provenance": []
    },
    "kernelspec": {
      "name": "python3",
      "display_name": "Python 3"
    },
    "language_info": {
      "name": "python"
    }
  },
  "cells": [
    {
      "cell_type": "code",
      "execution_count": null,
      "metadata": {
        "colab": {
          "base_uri": "https://localhost:8080/"
        },
        "id": "hC2sD9yJ-RrU",
        "outputId": "ce82ee77-cfb4-47a5-91c9-eb966fef1394"
      },
      "outputs": [
        {
          "output_type": "stream",
          "name": "stdout",
          "text": [
            "Looking in indexes: https://pypi.org/simple, https://us-python.pkg.dev/colab-wheels/public/simple/\n",
            "Collecting mpi4py\n",
            "  Downloading mpi4py-3.1.4.tar.gz (2.5 MB)\n",
            "\u001b[K     |████████████████████████████████| 2.5 MB 5.3 MB/s \n",
            "\u001b[?25h  Installing build dependencies ... \u001b[?25l\u001b[?25hdone\n",
            "  Getting requirements to build wheel ... \u001b[?25l\u001b[?25hdone\n",
            "    Preparing wheel metadata ... \u001b[?25l\u001b[?25hdone\n",
            "Building wheels for collected packages: mpi4py\n",
            "  Building wheel for mpi4py (PEP 517) ... \u001b[?25l\u001b[?25hdone\n",
            "  Created wheel for mpi4py: filename=mpi4py-3.1.4-cp38-cp38-linux_x86_64.whl size=4438445 sha256=d3725e179d6b960880ae1d1c6cc18b28efb8038c97118c4dd4c82a5419dd27e4\n",
            "  Stored in directory: /root/.cache/pip/wheels/f3/35/48/0b9a7076995eea5ea64a7e4bc3f0f342f453080795276264e7\n",
            "Successfully built mpi4py\n",
            "Installing collected packages: mpi4py\n",
            "Successfully installed mpi4py-3.1.4\n"
          ]
        }
      ],
      "source": [
        "!pip install mpi4py"
      ]
    },
    {
      "cell_type": "markdown",
      "source": [
        "$\\Delta x = \\frac{b-a}{N}$\n",
        "\n",
        "the approximation integral:\n",
        "$\\int_a^b \\mathrm{f(x)}\\,\\mathrm{d}x \\approx \\frac {\\Delta x}{2}\\sum_{i=k}^{N}(f(x_{k-1})+f(x_{k}))$\n",
        "\n",
        "Let's solve: a = 0, b = 10, $f(x) = x^{2}$\n",
        "\n",
        "$\\int_0^{10} \\mathrm{x^{2}}\\,\\mathrm{d}x = \\left.\\frac{x^{3}}{3} \\right|_0^{10} = 333.3$"
      ],
      "metadata": {
        "id": "m-8J9i6FAzd-"
      }
    },
    {
      "cell_type": "code",
      "source": [
        "import numpy as np\n",
        "import matplotlib.pyplot as plt\n",
        "\n",
        "\n",
        "def trap_rule(a = 0, b = 10,N = 100):\n",
        "\n",
        "  delta_x = (b-a)/N\n",
        "  x_dots = np.linspace(a, b, N+1, endpoint=True)\n",
        "  f = np.zeros(N+1)\n",
        "  f[0] = x_dots[0]**2\n",
        "  f[N] = x_dots[N] **2\n",
        "  for i in range(1,N):\n",
        "    f[i] = 2*x_dots[i]**2\n",
        "    \n",
        "  return round(delta_x*f.sum()/2,1)\n",
        "\n",
        "print(f'Trapezoidal rule gives - {trap_rule(N=101)}')\n"
      ],
      "metadata": {
        "colab": {
          "base_uri": "https://localhost:8080/"
        },
        "id": "fN1klOUaE1YI",
        "outputId": "7b4bc977-b0b9-400c-eeb4-442c8d9f78ec"
      },
      "execution_count": null,
      "outputs": [
        {
          "output_type": "stream",
          "name": "stdout",
          "text": [
            "Trapezoidal rule gives - 333.3\n"
          ]
        }
      ]
    },
    {
      "cell_type": "code",
      "source": [
        "results = np.array([trap_rule(N=n) for n in range(1,102)])"
      ],
      "metadata": {
        "id": "KS5tqEQ_v7X-"
      },
      "execution_count": null,
      "outputs": []
    },
    {
      "cell_type": "code",
      "source": [
        "plt.plot(abs(results-333.3))\n",
        "plt.xlabel('N')\n",
        "plt.ylabel('Integration error')"
      ],
      "metadata": {
        "colab": {
          "base_uri": "https://localhost:8080/",
          "height": 298
        },
        "id": "r82VEENPwuiQ",
        "outputId": "13a30534-708a-4944-8529-344040a14644"
      },
      "execution_count": null,
      "outputs": [
        {
          "output_type": "execute_result",
          "data": {
            "text/plain": [
              "Text(0, 0.5, 'Integration error')"
            ]
          },
          "metadata": {},
          "execution_count": 179
        },
        {
          "output_type": "display_data",
          "data": {
            "text/plain": [
              "<Figure size 432x288 with 1 Axes>"
            ],
            "image/png": "[encoded data removed]"
          },
          "metadata": {
            "needs_background": "light"
          }
        }
      ]
    },
    {
      "cell_type": "code",
      "source": [],
      "metadata": {
        "id": "bimlvER1wuxk"
      },
      "execution_count": null,
      "outputs": []
    },
    {
      "cell_type": "code",
      "source": [
        "%%writefile task7.py\n",
        "\n",
        "from mpi4py import MPI\n",
        "import numpy as np\n",
        "import matplotlib.pyplot as plt\n",
        "import timeit\n",
        "\n",
        "start = timeit.default_timer()\n",
        "\n",
        "comm = MPI.COMM_WORLD\n",
        "size = comm.Get_size()\n",
        "rank = comm.Get_rank()\n",
        "\n",
        "N = 100\n",
        "my_n = int((N+1)/size)\n",
        "a = 0\n",
        "b = 10\n",
        "\n",
        "delta_x = (b-a)/N\n",
        "x_dots = np.linspace(a, b, N+1, endpoint=True)\n",
        "#print(x_dots)\n",
        "\n",
        "if rank == size-1:\n",
        "  cur_x = x_dots[rank*my_n:]\n",
        "else:\n",
        "  cur_x = x_dots[rank*my_n:(rank+1)*my_n]\n",
        "\n",
        "f = np.zeros(cur_x.shape[0], dtype = np.float64)\n",
        "#print('my_n', my_n)\n",
        "#print(f'rank - {rank}, cur_x - {cur_x}')\n",
        "\n",
        "for i in range(cur_x.shape[0]):\n",
        "  f[i] = 2*cur_x[i]**2\n",
        "\n",
        "f= list(f)\n",
        "\n",
        "#print('my_n', my_n)\n",
        "#print('f', f)\n",
        "\n",
        "\n",
        "if rank == 0:\n",
        "  pass\n",
        "  #f_total = np.zeros(N, dtype = np.float64)\n",
        "else:\n",
        "  f_total = None\n",
        "\n",
        "\n",
        "#comm.Gather([f,my_n,MPI.FLOAT], f_total, root = 0)\n",
        "f_total = comm.gather(f, root = 0)\n",
        "#print('f_total',f_total)\n",
        "if rank == 0:\n",
        "  f_total = np.array(f_total, dtype=object)\n",
        "  f_total = np.hstack(f_total)\n",
        "  #print('stack',f_total)\n",
        "  f_total[-1] = f_total[-1]/2\n",
        "  print(round(f_total.sum()*(b-a)/N/2,1))\n",
        "\n",
        "TIME = timeit.default_timer() - start\n",
        "\n",
        "TIME_gen = comm.reduce(TIME, op=MPI.SUM, root = 0)\n",
        "if rank == 0:\n",
        "    print('final',TIME_gen/ size)\n"
      ],
      "metadata": {
        "colab": {
          "base_uri": "https://localhost:8080/"
        },
        "id": "kdJzIDAS-S-w",
        "outputId": "c36da1a5-4163-4e6f-8917-d1ff8a80320f"
      },
      "execution_count": null,
      "outputs": [
        {
          "output_type": "stream",
          "name": "stdout",
          "text": [
            "Overwriting task7.py\n"
          ]
        }
      ]
    },
    {
      "cell_type": "code",
      "source": [
        "!mpirun --allow-run-as-root -n 9 python task7.py"
      ],
      "metadata": {
        "colab": {
          "base_uri": "https://localhost:8080/"
        },
        "id": "YoTNG9svRyZq",
        "outputId": "df2cbc95-115e-4a72-e655-51389237d827"
      },
      "execution_count": null,
      "outputs": [
        {
          "output_type": "stream",
          "name": "stdout",
          "text": [
            "333.4\n",
            "final 0.0818994399998903\n"
          ]
        }
      ]
    },
    {
      "cell_type": "code",
      "source": [
        "import numpy as np\n",
        "import matplotlib.pyplot as plt\n",
        "time_1_proc = 0.003457668999544694\n",
        "\n",
        "proc_time = np.array([\n",
        "    0.0023218920005092514,\n",
        "    0.0026485103329226454,\n",
        "    0.0031553482494928176,\n",
        "    0.003719571599867777,\n",
        "    0.032890088166216934,\n",
        "    0.05972688857114657,\n",
        "    0.06983980450013405,\n",
        "    0.0818994399998903\n",
        "])\n",
        "\n",
        "plt.plot(1+np.array(range(1,proc_time.shape[0]+1)), time_1_proc/proc_time)\n",
        "plt.title('Speedup')\n",
        "plt.xlabel('Number of processes')\n",
        "plt.ylabel('Speedup')"
      ],
      "metadata": {
        "colab": {
          "base_uri": "https://localhost:8080/",
          "height": 310
        },
        "id": "0G2Vj11StO5N",
        "outputId": "71735445-ddf4-49bb-9ba1-7d817d99574e"
      },
      "execution_count": null,
      "outputs": [
        {
          "output_type": "execute_result",
          "data": {
            "text/plain": [
              "Text(0, 0.5, 'Speedup')"
            ]
          },
          "metadata": {},
          "execution_count": 165
        },
        {
          "output_type": "display_data",
          "data": {
            "text/plain": [
              "<Figure size 432x288 with 1 Axes>"
            ],
            "image/png": "[encoded data removed]"
          },
          "metadata": {
            "needs_background": "light"
          }
        }
      ]
    },
    {
      "cell_type": "code",
      "source": [
        "%%writefile task7.py\n",
        "\n",
        "from mpi4py import MPI\n",
        "import numpy as np\n",
        "import matplotlib.pyplot as plt\n",
        "import timeit\n",
        "\n",
        "start = timeit.default_timer()\n",
        "\n",
        "comm = MPI.COMM_WORLD\n",
        "size = comm.Get_size()\n",
        "rank = comm.Get_rank()\n",
        "\n",
        "N = 100\n",
        "my_n = int((N+1)/size)\n",
        "a = 0\n",
        "b = 10\n",
        "\n",
        "delta_x = (b-a)/N\n",
        "x_dots = np.linspace(a, b, N+1, endpoint=True)\n",
        "#print(x_dots)\n",
        "\n",
        "cur_x = x_dots[rank*my_n:(rank+1)*my_n]\n",
        "\n",
        "f = np.zeros(cur_x.shape[0], dtype = np.float64)\n",
        "#print('my_n', my_n)\n",
        "#print(f'rank - {rank}, cur_x - {cur_x}')\n",
        "\n",
        "for i in range(cur_x.shape[0]):\n",
        "  f[i] = 2*cur_x[i]**2\n",
        "\n",
        "f= list(f)\n",
        "\n",
        "#print('my_n', my_n)\n",
        "#print('f', f)\n",
        "\n",
        "\n",
        "if rank == 0:\n",
        "  pass\n",
        "  #f_total = np.zeros(N, dtype = np.float64)\n",
        "else:\n",
        "  f_total = None\n",
        "\n",
        "\n",
        "#comm.Gather([f,my_n,MPI.FLOAT], f_total, root = 0)\n",
        "f_total = comm.gather(f, root = 0)\n",
        "#print('f_total',f_total)\n",
        "if rank == 0:\n",
        "  f_total = np.array(f_total, dtype=object)\n",
        "  f_total = np.hstack(f_total)\n",
        "  #print('stack',f_total)\n",
        "  f_total[-1] = f_total[-1]/2\n",
        "  print(round(f_total.sum()*(b-a)/N/2,1))\n",
        "\n",
        "TIME = timeit.default_timer() - start\n",
        "\n",
        "TIME_gen = comm.reduce(TIME, op=MPI.SUM, root = 0)\n",
        "if rank == 0:\n",
        "    print('final',TIME_gen/ size)\n"
      ],
      "metadata": {
        "colab": {
          "base_uri": "https://localhost:8080/"
        },
        "id": "BL9mOFfVR1YT",
        "outputId": "7206ecf5-210d-440d-a30f-e4472e624c85"
      },
      "execution_count": null,
      "outputs": [
        {
          "output_type": "stream",
          "name": "stdout",
          "text": [
            "Overwriting task7.py\n"
          ]
        }
      ]
    },
    {
      "cell_type": "code",
      "source": [
        "!mpirun --allow-run-as-root -n 6 python task7.py"
      ],
      "metadata": {
        "colab": {
          "base_uri": "https://localhost:8080/"
        },
        "id": "Obacy_XaS8CG",
        "outputId": "50ac3148-0167-4be6-f2b0-cdd7e5c8949b"
      },
      "execution_count": null,
      "outputs": [
        {
          "output_type": "stream",
          "name": "stdout",
          "text": [
            "285.8\n",
            "final 0.09536419816701407\n"
          ]
        }
      ]
    },
    {
      "cell_type": "code",
      "source": [],
      "metadata": {
        "id": "bTKmg34shj6Q"
      },
      "execution_count": null,
      "outputs": []
    }
  ]
}